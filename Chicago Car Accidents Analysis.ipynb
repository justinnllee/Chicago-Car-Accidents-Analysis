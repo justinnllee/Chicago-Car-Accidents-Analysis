{
 "cells": [
  {
   "cell_type": "markdown",
   "metadata": {},
   "source": [
    "# Chicago Car Accidents Analysis"
   ]
  },
  {
   "cell_type": "markdown",
   "metadata": {},
   "source": [
    "Justin Lee\n",
    "\n",
    "This notebook is prepared for the Vehicle Safety Board of Chicago. This Board aims to understand the primary contributory causes of a car accident in order to reduce traffic accidents."
   ]
  },
  {
   "cell_type": "markdown",
   "metadata": {},
   "source": [
    "### Data Understanding"
   ]
  },
  {
   "cell_type": "markdown",
   "metadata": {},
   "source": [
    "This dataset is from the Chicago Data Portal. This data contains information about people involved in a crash and if any injuries were sustained. Each record corresponds to an occupant in a vehicle listed in the Crash dataset. Some people involved in a crash may not have been an occupant in a motor vehicle, but may have been a pedestrian, bicyclist, or using another non-motor vehicle mode of transportation. Person data can be linked with the Crash and Vehicle dataset using the “CRASH_RECORD_ID” field."
   ]
  },
  {
   "cell_type": "code",
   "execution_count": 1,
   "metadata": {},
   "outputs": [],
   "source": [
    "# Import any relevant library\n",
    "import pandas as pd\n",
    "from sklearn.preprocessing import LabelEncoder\n",
    "from sklearn.preprocessing import StandardScaler\n",
    "from sklearn.model_selection import train_test_split\n",
    "from sklearn.tree import DecisionTreeClassifier\n",
    "from sklearn.metrics import accuracy_score\n",
    "from sklearn.metrics import classification_report, confusion_matrix\n",
    "import seaborn as sns\n",
    "import matplotlib.pyplot as plt\n",
    "import numpy as np"
   ]
  },
  {
   "cell_type": "code",
   "execution_count": 2,
   "metadata": {},
   "outputs": [
    {
     "name": "stderr",
     "output_type": "stream",
     "text": [
      "/Users/justinlee/anaconda3/envs/learn-env/lib/python3.8/site-packages/IPython/core/interactiveshell.py:3145: DtypeWarning: Columns (19,28) have mixed types.Specify dtype option on import or set low_memory=False.\n",
      "  has_raised = await self.run_ast_nodes(code_ast.body, cell_name,\n"
     ]
    },
    {
     "data": {
      "text/html": [
       "<div>\n",
       "<style scoped>\n",
       "    .dataframe tbody tr th:only-of-type {\n",
       "        vertical-align: middle;\n",
       "    }\n",
       "\n",
       "    .dataframe tbody tr th {\n",
       "        vertical-align: top;\n",
       "    }\n",
       "\n",
       "    .dataframe thead th {\n",
       "        text-align: right;\n",
       "    }\n",
       "</style>\n",
       "<table border=\"1\" class=\"dataframe\">\n",
       "  <thead>\n",
       "    <tr style=\"text-align: right;\">\n",
       "      <th></th>\n",
       "      <th>PERSON_ID</th>\n",
       "      <th>PERSON_TYPE</th>\n",
       "      <th>CRASH_RECORD_ID</th>\n",
       "      <th>VEHICLE_ID</th>\n",
       "      <th>CRASH_DATE</th>\n",
       "      <th>SEAT_NO</th>\n",
       "      <th>CITY</th>\n",
       "      <th>STATE</th>\n",
       "      <th>ZIPCODE</th>\n",
       "      <th>SEX</th>\n",
       "      <th>...</th>\n",
       "      <th>EMS_RUN_NO</th>\n",
       "      <th>DRIVER_ACTION</th>\n",
       "      <th>DRIVER_VISION</th>\n",
       "      <th>PHYSICAL_CONDITION</th>\n",
       "      <th>PEDPEDAL_ACTION</th>\n",
       "      <th>PEDPEDAL_VISIBILITY</th>\n",
       "      <th>PEDPEDAL_LOCATION</th>\n",
       "      <th>BAC_RESULT</th>\n",
       "      <th>BAC_RESULT VALUE</th>\n",
       "      <th>CELL_PHONE_USE</th>\n",
       "    </tr>\n",
       "  </thead>\n",
       "  <tbody>\n",
       "    <tr>\n",
       "      <th>0</th>\n",
       "      <td>O749947</td>\n",
       "      <td>DRIVER</td>\n",
       "      <td>81dc0de2ed92aa62baccab641fa377be7feb1cc47e6554...</td>\n",
       "      <td>834816.0</td>\n",
       "      <td>09/28/2019 03:30:00 AM</td>\n",
       "      <td>NaN</td>\n",
       "      <td>CHICAGO</td>\n",
       "      <td>IL</td>\n",
       "      <td>60651</td>\n",
       "      <td>M</td>\n",
       "      <td>...</td>\n",
       "      <td>NaN</td>\n",
       "      <td>UNKNOWN</td>\n",
       "      <td>UNKNOWN</td>\n",
       "      <td>UNKNOWN</td>\n",
       "      <td>NaN</td>\n",
       "      <td>NaN</td>\n",
       "      <td>NaN</td>\n",
       "      <td>TEST NOT OFFERED</td>\n",
       "      <td>NaN</td>\n",
       "      <td>NaN</td>\n",
       "    </tr>\n",
       "    <tr>\n",
       "      <th>1</th>\n",
       "      <td>O871921</td>\n",
       "      <td>DRIVER</td>\n",
       "      <td>af84fb5c8d996fcd3aefd36593c3a02e6e7509eeb27568...</td>\n",
       "      <td>827212.0</td>\n",
       "      <td>04/13/2020 10:50:00 PM</td>\n",
       "      <td>NaN</td>\n",
       "      <td>CHICAGO</td>\n",
       "      <td>IL</td>\n",
       "      <td>60620</td>\n",
       "      <td>M</td>\n",
       "      <td>...</td>\n",
       "      <td>NaN</td>\n",
       "      <td>NONE</td>\n",
       "      <td>NOT OBSCURED</td>\n",
       "      <td>NORMAL</td>\n",
       "      <td>NaN</td>\n",
       "      <td>NaN</td>\n",
       "      <td>NaN</td>\n",
       "      <td>TEST NOT OFFERED</td>\n",
       "      <td>NaN</td>\n",
       "      <td>NaN</td>\n",
       "    </tr>\n",
       "    <tr>\n",
       "      <th>2</th>\n",
       "      <td>O10018</td>\n",
       "      <td>DRIVER</td>\n",
       "      <td>71162af7bf22799b776547132ebf134b5b438dcf3dac6b...</td>\n",
       "      <td>9579.0</td>\n",
       "      <td>11/01/2015 05:00:00 AM</td>\n",
       "      <td>NaN</td>\n",
       "      <td>NaN</td>\n",
       "      <td>NaN</td>\n",
       "      <td>NaN</td>\n",
       "      <td>X</td>\n",
       "      <td>...</td>\n",
       "      <td>NaN</td>\n",
       "      <td>IMPROPER BACKING</td>\n",
       "      <td>UNKNOWN</td>\n",
       "      <td>UNKNOWN</td>\n",
       "      <td>NaN</td>\n",
       "      <td>NaN</td>\n",
       "      <td>NaN</td>\n",
       "      <td>TEST NOT OFFERED</td>\n",
       "      <td>NaN</td>\n",
       "      <td>NaN</td>\n",
       "    </tr>\n",
       "    <tr>\n",
       "      <th>3</th>\n",
       "      <td>O10038</td>\n",
       "      <td>DRIVER</td>\n",
       "      <td>c21c476e2ccc41af550b5d858d22aaac4ffc88745a1700...</td>\n",
       "      <td>9598.0</td>\n",
       "      <td>11/01/2015 08:00:00 AM</td>\n",
       "      <td>NaN</td>\n",
       "      <td>NaN</td>\n",
       "      <td>NaN</td>\n",
       "      <td>NaN</td>\n",
       "      <td>X</td>\n",
       "      <td>...</td>\n",
       "      <td>NaN</td>\n",
       "      <td>UNKNOWN</td>\n",
       "      <td>UNKNOWN</td>\n",
       "      <td>UNKNOWN</td>\n",
       "      <td>NaN</td>\n",
       "      <td>NaN</td>\n",
       "      <td>NaN</td>\n",
       "      <td>TEST NOT OFFERED</td>\n",
       "      <td>NaN</td>\n",
       "      <td>NaN</td>\n",
       "    </tr>\n",
       "    <tr>\n",
       "      <th>4</th>\n",
       "      <td>O10039</td>\n",
       "      <td>DRIVER</td>\n",
       "      <td>eb390a4c8e114c69488f5fb8a097fe629f5a92fd528cf4...</td>\n",
       "      <td>9600.0</td>\n",
       "      <td>11/01/2015 10:15:00 AM</td>\n",
       "      <td>NaN</td>\n",
       "      <td>NaN</td>\n",
       "      <td>NaN</td>\n",
       "      <td>NaN</td>\n",
       "      <td>X</td>\n",
       "      <td>...</td>\n",
       "      <td>NaN</td>\n",
       "      <td>UNKNOWN</td>\n",
       "      <td>UNKNOWN</td>\n",
       "      <td>UNKNOWN</td>\n",
       "      <td>NaN</td>\n",
       "      <td>NaN</td>\n",
       "      <td>NaN</td>\n",
       "      <td>TEST NOT OFFERED</td>\n",
       "      <td>NaN</td>\n",
       "      <td>NaN</td>\n",
       "    </tr>\n",
       "  </tbody>\n",
       "</table>\n",
       "<p>5 rows × 29 columns</p>\n",
       "</div>"
      ],
      "text/plain": [
       "  PERSON_ID PERSON_TYPE                                    CRASH_RECORD_ID  \\\n",
       "0   O749947      DRIVER  81dc0de2ed92aa62baccab641fa377be7feb1cc47e6554...   \n",
       "1   O871921      DRIVER  af84fb5c8d996fcd3aefd36593c3a02e6e7509eeb27568...   \n",
       "2    O10018      DRIVER  71162af7bf22799b776547132ebf134b5b438dcf3dac6b...   \n",
       "3    O10038      DRIVER  c21c476e2ccc41af550b5d858d22aaac4ffc88745a1700...   \n",
       "4    O10039      DRIVER  eb390a4c8e114c69488f5fb8a097fe629f5a92fd528cf4...   \n",
       "\n",
       "   VEHICLE_ID              CRASH_DATE  SEAT_NO     CITY STATE ZIPCODE SEX  \\\n",
       "0    834816.0  09/28/2019 03:30:00 AM      NaN  CHICAGO    IL   60651   M   \n",
       "1    827212.0  04/13/2020 10:50:00 PM      NaN  CHICAGO    IL   60620   M   \n",
       "2      9579.0  11/01/2015 05:00:00 AM      NaN      NaN   NaN     NaN   X   \n",
       "3      9598.0  11/01/2015 08:00:00 AM      NaN      NaN   NaN     NaN   X   \n",
       "4      9600.0  11/01/2015 10:15:00 AM      NaN      NaN   NaN     NaN   X   \n",
       "\n",
       "   ...  EMS_RUN_NO     DRIVER_ACTION DRIVER_VISION PHYSICAL_CONDITION  \\\n",
       "0  ...         NaN           UNKNOWN       UNKNOWN            UNKNOWN   \n",
       "1  ...         NaN              NONE  NOT OBSCURED             NORMAL   \n",
       "2  ...         NaN  IMPROPER BACKING       UNKNOWN            UNKNOWN   \n",
       "3  ...         NaN           UNKNOWN       UNKNOWN            UNKNOWN   \n",
       "4  ...         NaN           UNKNOWN       UNKNOWN            UNKNOWN   \n",
       "\n",
       "  PEDPEDAL_ACTION PEDPEDAL_VISIBILITY PEDPEDAL_LOCATION        BAC_RESULT  \\\n",
       "0             NaN                 NaN               NaN  TEST NOT OFFERED   \n",
       "1             NaN                 NaN               NaN  TEST NOT OFFERED   \n",
       "2             NaN                 NaN               NaN  TEST NOT OFFERED   \n",
       "3             NaN                 NaN               NaN  TEST NOT OFFERED   \n",
       "4             NaN                 NaN               NaN  TEST NOT OFFERED   \n",
       "\n",
       "  BAC_RESULT VALUE CELL_PHONE_USE  \n",
       "0              NaN            NaN  \n",
       "1              NaN            NaN  \n",
       "2              NaN            NaN  \n",
       "3              NaN            NaN  \n",
       "4              NaN            NaN  \n",
       "\n",
       "[5 rows x 29 columns]"
      ]
     },
     "execution_count": 2,
     "metadata": {},
     "output_type": "execute_result"
    }
   ],
   "source": [
    "# Load in our dataframe\n",
    "df = pd.read_csv('traffic_crashes.csv')\n",
    "\n",
    "df.head()"
   ]
  },
  {
   "cell_type": "code",
   "execution_count": 3,
   "metadata": {
    "scrolled": true
   },
   "outputs": [
    {
     "data": {
      "text/html": [
       "<div>\n",
       "<style scoped>\n",
       "    .dataframe tbody tr th:only-of-type {\n",
       "        vertical-align: middle;\n",
       "    }\n",
       "\n",
       "    .dataframe tbody tr th {\n",
       "        vertical-align: top;\n",
       "    }\n",
       "\n",
       "    .dataframe thead th {\n",
       "        text-align: right;\n",
       "    }\n",
       "</style>\n",
       "<table border=\"1\" class=\"dataframe\">\n",
       "  <thead>\n",
       "    <tr style=\"text-align: right;\">\n",
       "      <th></th>\n",
       "      <th>VEHICLE_ID</th>\n",
       "      <th>SEAT_NO</th>\n",
       "      <th>AGE</th>\n",
       "      <th>BAC_RESULT VALUE</th>\n",
       "    </tr>\n",
       "  </thead>\n",
       "  <tbody>\n",
       "    <tr>\n",
       "      <th>count</th>\n",
       "      <td>1.964730e+06</td>\n",
       "      <td>405468.00000</td>\n",
       "      <td>1.422362e+06</td>\n",
       "      <td>2216.000000</td>\n",
       "    </tr>\n",
       "    <tr>\n",
       "      <th>mean</th>\n",
       "      <td>9.441771e+05</td>\n",
       "      <td>4.16478</td>\n",
       "      <td>3.792867e+01</td>\n",
       "      <td>0.171340</td>\n",
       "    </tr>\n",
       "    <tr>\n",
       "      <th>std</th>\n",
       "      <td>5.491011e+05</td>\n",
       "      <td>2.21842</td>\n",
       "      <td>1.708682e+01</td>\n",
       "      <td>0.103318</td>\n",
       "    </tr>\n",
       "    <tr>\n",
       "      <th>min</th>\n",
       "      <td>2.000000e+00</td>\n",
       "      <td>1.00000</td>\n",
       "      <td>-1.770000e+02</td>\n",
       "      <td>0.000000</td>\n",
       "    </tr>\n",
       "    <tr>\n",
       "      <th>25%</th>\n",
       "      <td>4.680342e+05</td>\n",
       "      <td>3.00000</td>\n",
       "      <td>2.500000e+01</td>\n",
       "      <td>0.127500</td>\n",
       "    </tr>\n",
       "    <tr>\n",
       "      <th>50%</th>\n",
       "      <td>9.363780e+05</td>\n",
       "      <td>3.00000</td>\n",
       "      <td>3.500000e+01</td>\n",
       "      <td>0.170000</td>\n",
       "    </tr>\n",
       "    <tr>\n",
       "      <th>75%</th>\n",
       "      <td>1.422413e+06</td>\n",
       "      <td>6.00000</td>\n",
       "      <td>5.000000e+01</td>\n",
       "      <td>0.220000</td>\n",
       "    </tr>\n",
       "    <tr>\n",
       "      <th>max</th>\n",
       "      <td>1.900249e+06</td>\n",
       "      <td>12.00000</td>\n",
       "      <td>1.100000e+02</td>\n",
       "      <td>1.000000</td>\n",
       "    </tr>\n",
       "  </tbody>\n",
       "</table>\n",
       "</div>"
      ],
      "text/plain": [
       "         VEHICLE_ID       SEAT_NO           AGE  BAC_RESULT VALUE\n",
       "count  1.964730e+06  405468.00000  1.422362e+06       2216.000000\n",
       "mean   9.441771e+05       4.16478  3.792867e+01          0.171340\n",
       "std    5.491011e+05       2.21842  1.708682e+01          0.103318\n",
       "min    2.000000e+00       1.00000 -1.770000e+02          0.000000\n",
       "25%    4.680342e+05       3.00000  2.500000e+01          0.127500\n",
       "50%    9.363780e+05       3.00000  3.500000e+01          0.170000\n",
       "75%    1.422413e+06       6.00000  5.000000e+01          0.220000\n",
       "max    1.900249e+06      12.00000  1.100000e+02          1.000000"
      ]
     },
     "execution_count": 3,
     "metadata": {},
     "output_type": "execute_result"
    }
   ],
   "source": [
    "df.describe()"
   ]
  },
  {
   "cell_type": "code",
   "execution_count": 4,
   "metadata": {},
   "outputs": [
    {
     "name": "stdout",
     "output_type": "stream",
     "text": [
      "<class 'pandas.core.frame.DataFrame'>\n",
      "RangeIndex: 2005877 entries, 0 to 2005876\n",
      "Data columns (total 29 columns):\n",
      " #   Column                 Dtype  \n",
      "---  ------                 -----  \n",
      " 0   PERSON_ID              object \n",
      " 1   PERSON_TYPE            object \n",
      " 2   CRASH_RECORD_ID        object \n",
      " 3   VEHICLE_ID             float64\n",
      " 4   CRASH_DATE             object \n",
      " 5   SEAT_NO                float64\n",
      " 6   CITY                   object \n",
      " 7   STATE                  object \n",
      " 8   ZIPCODE                object \n",
      " 9   SEX                    object \n",
      " 10  AGE                    float64\n",
      " 11  DRIVERS_LICENSE_STATE  object \n",
      " 12  DRIVERS_LICENSE_CLASS  object \n",
      " 13  SAFETY_EQUIPMENT       object \n",
      " 14  AIRBAG_DEPLOYED        object \n",
      " 15  EJECTION               object \n",
      " 16  INJURY_CLASSIFICATION  object \n",
      " 17  HOSPITAL               object \n",
      " 18  EMS_AGENCY             object \n",
      " 19  EMS_RUN_NO             object \n",
      " 20  DRIVER_ACTION          object \n",
      " 21  DRIVER_VISION          object \n",
      " 22  PHYSICAL_CONDITION     object \n",
      " 23  PEDPEDAL_ACTION        object \n",
      " 24  PEDPEDAL_VISIBILITY    object \n",
      " 25  PEDPEDAL_LOCATION      object \n",
      " 26  BAC_RESULT             object \n",
      " 27  BAC_RESULT VALUE       float64\n",
      " 28  CELL_PHONE_USE         object \n",
      "dtypes: float64(4), object(25)\n",
      "memory usage: 443.8+ MB\n"
     ]
    }
   ],
   "source": [
    "df.info()"
   ]
  },
  {
   "cell_type": "code",
   "execution_count": 5,
   "metadata": {},
   "outputs": [
    {
     "data": {
      "text/plain": [
       "PERSON_ID                      0\n",
       "PERSON_TYPE                    0\n",
       "CRASH_RECORD_ID                0\n",
       "VEHICLE_ID                 41147\n",
       "CRASH_DATE                     0\n",
       "SEAT_NO                  1600409\n",
       "CITY                      545926\n",
       "STATE                     523661\n",
       "ZIPCODE                   662176\n",
       "SEX                        33887\n",
       "AGE                       583515\n",
       "DRIVERS_LICENSE_STATE     831360\n",
       "DRIVERS_LICENSE_CLASS    1030131\n",
       "SAFETY_EQUIPMENT            5603\n",
       "AIRBAG_DEPLOYED            39600\n",
       "EJECTION                   25264\n",
       "INJURY_CLASSIFICATION        757\n",
       "HOSPITAL                 1682144\n",
       "EMS_AGENCY               1806123\n",
       "EMS_RUN_NO               1972477\n",
       "DRIVER_ACTION             409055\n",
       "DRIVER_VISION             409691\n",
       "PHYSICAL_CONDITION        407959\n",
       "PEDPEDAL_ACTION          1966543\n",
       "PEDPEDAL_VISIBILITY      1966613\n",
       "PEDPEDAL_LOCATION        1966542\n",
       "BAC_RESULT                408136\n",
       "BAC_RESULT VALUE         2003661\n",
       "CELL_PHONE_USE           2004717\n",
       "dtype: int64"
      ]
     },
     "execution_count": 5,
     "metadata": {},
     "output_type": "execute_result"
    }
   ],
   "source": [
    "# Explore number of null values\n",
    "df.isnull().sum()"
   ]
  },
  {
   "cell_type": "code",
   "execution_count": 6,
   "metadata": {},
   "outputs": [
    {
     "data": {
      "text/plain": [
       "NONE                                 568041\n",
       "UNKNOWN                              406729\n",
       "FAILED TO YIELD                      145118\n",
       "OTHER                                143764\n",
       "FOLLOWED TOO CLOSELY                  93147\n",
       "IMPROPER BACKING                      46726\n",
       "IMPROPER TURN                         42036\n",
       "IMPROPER LANE CHANGE                  41055\n",
       "IMPROPER PASSING                      35904\n",
       "DISREGARDED CONTROL DEVICES           28288\n",
       "TOO FAST FOR CONDITIONS               23312\n",
       "WRONG WAY/SIDE                         6449\n",
       "IMPROPER PARKING                       5856\n",
       "OVERCORRECTED                          3230\n",
       "EVADING POLICE VEHICLE                 2473\n",
       "CELL PHONE USE OTHER THAN TEXTING      2313\n",
       "EMERGENCY VEHICLE ON CALL              1493\n",
       "TEXTING                                 626\n",
       "STOPPED SCHOOL BUS                      193\n",
       "LICENSE RESTRICTIONS                     69\n",
       "Name: DRIVER_ACTION, dtype: int64"
      ]
     },
     "execution_count": 6,
     "metadata": {},
     "output_type": "execute_result"
    }
   ],
   "source": [
    "# Explore our target variable counts\n",
    "df['DRIVER_ACTION'].value_counts()"
   ]
  },
  {
   "cell_type": "markdown",
   "metadata": {},
   "source": [
    "### Data Preparation"
   ]
  },
  {
   "cell_type": "markdown",
   "metadata": {},
   "source": [
    "In order to prepare our data for analysis we must drop any unnecessary columns, fill any NA values, scale our numerical features, and encode our categorical features."
   ]
  },
  {
   "cell_type": "code",
   "execution_count": 7,
   "metadata": {},
   "outputs": [],
   "source": [
    "# I will be dropping these columns because most rows are missing from each or they are not relevant for our analysis\n",
    "# hospital, ems_agency, ems_run_no are all post-crash related - they will not help us determine the primary contributor cause of a car accident\n",
    "# person_id, crash_record_id, and vehicle_id don't contribut to predicting accident cause\n",
    "\n",
    "columns_to_drop = ['HOSPITAL', 'EMS_AGENCY', 'EMS_RUN_NO', 'PERSON_ID', 'CRASH_RECORD_ID', 'VEHICLE_ID',\n",
    "                  'PERSON_TYPE', 'CRASH_DATE', 'CITY', 'STATE', 'ZIPCODE','BAC_RESULT']\n",
    "df.drop(columns=columns_to_drop, inplace=True)"
   ]
  },
  {
   "cell_type": "markdown",
   "metadata": {},
   "source": [
    "Because my audience is a Vehicle Safety Board they are likely more interested in driver behavior and physical condition rather than specific pedestrain details.\n",
    "\n",
    "For that reason, our best target column candidates are driver_action, physical_condition, and cell_phone_use. Let's explore the data for each candidate to make an informed choice."
   ]
  },
  {
   "cell_type": "code",
   "execution_count": 8,
   "metadata": {},
   "outputs": [
    {
     "name": "stdout",
     "output_type": "stream",
     "text": [
      "\n",
      "DRIVER_ACTION - Unique Values: 20\n",
      "NONE                           0.355732\n",
      "UNKNOWN                        0.254712\n",
      "FAILED TO YIELD                0.090879\n",
      "OTHER                          0.090031\n",
      "FOLLOWED TOO CLOSELY           0.058333\n",
      "IMPROPER BACKING               0.029262\n",
      "IMPROPER TURN                  0.026325\n",
      "IMPROPER LANE CHANGE           0.025710\n",
      "IMPROPER PASSING               0.022485\n",
      "DISREGARDED CONTROL DEVICES    0.017715\n",
      "Name: DRIVER_ACTION, dtype: float64\n",
      "\n",
      "PHYSICAL_CONDITION - Unique Values: 12\n",
      "NORMAL                0.646548\n",
      "UNKNOWN               0.334970\n",
      "IMPAIRED - ALCOHOL    0.004215\n",
      "REMOVED BY EMS        0.003610\n",
      "OTHER                 0.002908\n",
      "EMOTIONAL             0.002694\n",
      "FATIGUED/ASLEEP       0.002598\n",
      "ILLNESS/FAINTED       0.000891\n",
      "HAD BEEN DRINKING     0.000713\n",
      "IMPAIRED - DRUGS      0.000459\n",
      "Name: PHYSICAL_CONDITION, dtype: float64\n",
      "\n",
      "CELL_PHONE_USE - Unique Values: 2\n",
      "Y    0.649138\n",
      "N    0.350862\n",
      "Name: CELL_PHONE_USE, dtype: float64\n"
     ]
    }
   ],
   "source": [
    "# Check the distribution of values in each potential target column:\n",
    "\n",
    "candidate_columns = [\"DRIVER_ACTION\", \"PHYSICAL_CONDITION\", \"CELL_PHONE_USE\"]\n",
    "\n",
    "for col in candidate_columns:\n",
    "    print(f\"\\n{col} - Unique Values: {df[col].nunique()}\")\n",
    "    print(df[col].value_counts(normalize=True).head(10))  # View top 10 most common causes"
   ]
  },
  {
   "cell_type": "markdown",
   "metadata": {},
   "source": [
    "DRIVER_ACTION will be my *target* variable because it\n",
    "- directly describes driver behavior leading to crashes\n",
    "- has specific categories (ie. FAILED TO YIELD, FOLLOWING TOO CLOSELY) that align with real-world accident causes\n",
    "- has more predictive power than PHYSICAL_CONDITION or CELL_PHONE_USE\n",
    "\n",
    "PHYSICAL_CONDITION has 64.65% of \"NORMAL\" values and 33.5% of \"UNKNOWN\" values which means there are only around 2% of cases that indicated impaired or emotional conditions.\n",
    "\n",
    "CELL_PHONE_USE is relatively balanced between Y and N. It also does not have a broad cause of accidents. It is just binary."
   ]
  },
  {
   "cell_type": "code",
   "execution_count": 9,
   "metadata": {},
   "outputs": [],
   "source": [
    "# Group NONE and UNKNOWN values from DRIVER_ACTION into an \"UNSPECIFIED\" category.\n",
    "df[\"DRIVER_ACTION\"] = df[\"DRIVER_ACTION\"].replace([\"NONE\", \"UNKNOWN\"], \"UNSPECIFIED\")"
   ]
  },
  {
   "cell_type": "code",
   "execution_count": 10,
   "metadata": {},
   "outputs": [],
   "source": [
    "# Encode DRIVER_ACTION for model training\n",
    "encoder = LabelEncoder()\n",
    "df[\"DRIVER_ACTION\"] = df[\"DRIVER_ACTION\"].astype(str)\n",
    "df[\"DRIVER_ACTION\"] = encoder.fit_transform(df[\"DRIVER_ACTION\"])"
   ]
  },
  {
   "cell_type": "code",
   "execution_count": 11,
   "metadata": {},
   "outputs": [],
   "source": [
    "# Normalize/scale numerical features\n",
    "num_cols = df.select_dtypes(include=[\"int64\", \"float64\"]).columns\n",
    "scaler = StandardScaler()\n",
    "df[num_cols] = scaler.fit_transform(df[num_cols])"
   ]
  },
  {
   "cell_type": "code",
   "execution_count": 12,
   "metadata": {},
   "outputs": [
    {
     "name": "stdout",
     "output_type": "stream",
     "text": [
      "Categorical Columns: ['SEX', 'DRIVERS_LICENSE_STATE', 'DRIVERS_LICENSE_CLASS', 'SAFETY_EQUIPMENT', 'AIRBAG_DEPLOYED', 'EJECTION', 'INJURY_CLASSIFICATION', 'DRIVER_VISION', 'PHYSICAL_CONDITION', 'PEDPEDAL_ACTION', 'PEDPEDAL_VISIBILITY', 'PEDPEDAL_LOCATION', 'CELL_PHONE_USE']\n"
     ]
    }
   ],
   "source": [
    "# Identify categorical columns to encode\n",
    "categorical_cols = df.select_dtypes(include=[\"object\"]).columns.tolist()\n",
    "print(\"Categorical Columns:\", categorical_cols)"
   ]
  },
  {
   "cell_type": "code",
   "execution_count": 13,
   "metadata": {},
   "outputs": [],
   "source": [
    "# Let's assume these 3 columns have some sort of inherent order to them\n",
    "# Because of the assumed inherent order, we will label encode\n",
    "label_cols = [\"DRIVERS_LICENSE_STATE\", \"DRIVERS_LICENSE_CLASS\", \"PHYSICAL_CONDITION\"]\n",
    "\n",
    "for col in label_cols:\n",
    "    df[col] = encoder.fit_transform(df[col].astype(str))  # Ensure it's string before encoding\n"
   ]
  },
  {
   "cell_type": "code",
   "execution_count": 14,
   "metadata": {},
   "outputs": [],
   "source": [
    "# Let's assume these remaining columns don't have a natural order to them. This makes them fit for one-hot encoding\n",
    "one_hot_cols = [\n",
    "    \"SEX\", \"SAFETY_EQUIPMENT\", \"AIRBAG_DEPLOYED\", \"EJECTION\",\n",
    "    \"INJURY_CLASSIFICATION\", \"DRIVER_VISION\", \"PEDPEDAL_ACTION\",\n",
    "    \"PEDPEDAL_VISIBILITY\", \"PEDPEDAL_LOCATION\", \"CELL_PHONE_USE\"\n",
    "]\n",
    "\n",
    "df = pd.get_dummies(df, columns=one_hot_cols, drop_first=True)  # Drop first category to avoid multicollinearity\n"
   ]
  },
  {
   "cell_type": "code",
   "execution_count": 15,
   "metadata": {},
   "outputs": [
    {
     "name": "stdout",
     "output_type": "stream",
     "text": [
      "SEAT_NO                             float64\n",
      "AGE                                 float64\n",
      "DRIVERS_LICENSE_STATE                 int64\n",
      "DRIVERS_LICENSE_CLASS                 int64\n",
      "DRIVER_ACTION                       float64\n",
      "                                     ...   \n",
      "PEDPEDAL_LOCATION_IN ROADWAY          uint8\n",
      "PEDPEDAL_LOCATION_NOT IN ROADWAY      uint8\n",
      "PEDPEDAL_LOCATION_SHOULDER            uint8\n",
      "PEDPEDAL_LOCATION_UNKNOWN/NA          uint8\n",
      "CELL_PHONE_USE_Y                      uint8\n",
      "Length: 87, dtype: object\n"
     ]
    }
   ],
   "source": [
    "# Now a final check to make sure no more object-type columns exist\n",
    "print(df.dtypes)"
   ]
  },
  {
   "cell_type": "code",
   "execution_count": 16,
   "metadata": {},
   "outputs": [
    {
     "name": "stdout",
     "output_type": "stream",
     "text": [
      "Object Columns: Index([], dtype='object')\n"
     ]
    }
   ],
   "source": [
    "obj_cols = df.select_dtypes(include=[\"object\"]).columns\n",
    "print(\"Object Columns:\", obj_cols)"
   ]
  },
  {
   "cell_type": "markdown",
   "metadata": {},
   "source": [
    "### Baseline Model"
   ]
  },
  {
   "cell_type": "markdown",
   "metadata": {},
   "source": [
    "We will use a Decision Tree Classifier as our baseline model because our DRIVER_ACTION target is a multi-class target and it is easily interpretable for an initial benchmark for performance. "
   ]
  },
  {
   "cell_type": "code",
   "execution_count": 17,
   "metadata": {},
   "outputs": [
    {
     "name": "stdout",
     "output_type": "stream",
     "text": [
      "Training data shape: (1604701, 86)\n",
      "Testing data shape: (401176, 86)\n"
     ]
    }
   ],
   "source": [
    "# Separate features (X) and target (y)\n",
    "X = df.drop(columns=[\"DRIVER_ACTION\"])\n",
    "y = df[\"DRIVER_ACTION\"]\n",
    "\n",
    "# Split into 80% train, 20% test\n",
    "X_train, X_test, y_train, y_test = train_test_split(X, y, test_size=0.2, random_state=42, stratify=y)\n",
    "\n",
    "print(\"Training data shape:\", X_train.shape)\n",
    "print(\"Testing data shape:\", X_test.shape)"
   ]
  },
  {
   "cell_type": "code",
   "execution_count": 18,
   "metadata": {
    "scrolled": false
   },
   "outputs": [
    {
     "name": "stderr",
     "output_type": "stream",
     "text": [
      "/Users/justinlee/anaconda3/envs/learn-env/lib/python3.8/site-packages/pandas/core/frame.py:4317: SettingWithCopyWarning: \n",
      "A value is trying to be set on a copy of a slice from a DataFrame\n",
      "\n",
      "See the caveats in the documentation: https://pandas.pydata.org/pandas-docs/stable/user_guide/indexing.html#returning-a-view-versus-a-copy\n",
      "  return super().fillna(\n"
     ]
    }
   ],
   "source": [
    "# Remove null values\n",
    "X_train.fillna(0, inplace=True)\n",
    "X_test.fillna(0, inplace=True)\n",
    "\n",
    "# DRIVER_ACTION should be a classification target so it must get converted to integers\n",
    "y_train = y_train.astype(int)\n",
    "y_test = y_test.astype(int)"
   ]
  },
  {
   "cell_type": "code",
   "execution_count": 19,
   "metadata": {},
   "outputs": [
    {
     "name": "stdout",
     "output_type": "stream",
     "text": [
      "Baseline Model Accuracy: 0.7808\n"
     ]
    }
   ],
   "source": [
    "# Initialize the model\n",
    "baseline_model = DecisionTreeClassifier(random_state=42)\n",
    "\n",
    "# Train the model\n",
    "baseline_model.fit(X_train, y_train)\n",
    "\n",
    "# Predict on our test set\n",
    "y_pred = baseline_model.predict(X_test)\n",
    "\n",
    "# Evaluate the accuracy\n",
    "accuracy = accuracy_score(y_test, y_pred)\n",
    "print(f\"Baseline Model Accuracy: {accuracy:.4f}\")"
   ]
  },
  {
   "cell_type": "markdown",
   "metadata": {},
   "source": [
    "### Baseline Model - Evaluation"
   ]
  },
  {
   "cell_type": "markdown",
   "metadata": {},
   "source": [
    "For our model evaluations, we will use a confusion matrix and classification report to evaluate our model's strengths and weaknesses. A confusion matrix gives us a detailed breakdown of prediction errors whereas the classification report gives a numerical summary of key performance indicators."
   ]
  },
  {
   "cell_type": "code",
   "execution_count": 20,
   "metadata": {},
   "outputs": [
    {
     "name": "stdout",
     "output_type": "stream",
     "text": [
      "Classification Report:\n",
      "               precision    recall  f1-score   support\n",
      "\n",
      "          -2       0.20      0.05      0.08     35939\n",
      "          -1       0.16      0.02      0.04     44537\n",
      "           0       0.80      0.97      0.88    320700\n",
      "\n",
      "    accuracy                           0.78    401176\n",
      "   macro avg       0.39      0.35      0.33    401176\n",
      "weighted avg       0.68      0.78      0.71    401176\n",
      "\n"
     ]
    },
    {
     "data": {
      "image/png": "[encoded data removed]",
      "text/plain": [
       "<Figure size 720x432 with 2 Axes>"
      ]
     },
     "metadata": {
      "needs_background": "light"
     },
     "output_type": "display_data"
    }
   ],
   "source": [
    "# Classification Report\n",
    "print(\"Classification Report:\\n\", classification_report(y_test, y_pred))\n",
    "\n",
    "plt.figure(figsize=(10, 6))\n",
    "sns.heatmap(confusion_matrix(y_test, y_pred), annot=True, fmt=\"d\", cmap=\"Blues\")\n",
    "plt.xlabel(\"Predicted\")\n",
    "plt.ylabel(\"Actual\")\n",
    "plt.title(\"Confusion Matrix\")\n",
    "plt.show()\n"
   ]
  },
  {
   "cell_type": "markdown",
   "metadata": {},
   "source": [
    "Our Decision Tree classifier correctly predicts the primary contributory cause in about 78% of cases.\n",
    "\n",
    "Class 0 has a high recall of 97% and F1-score of 88%, meaning our model heavily favors this class. Classes -2 and -1 have low recall scores meaning they are rarely predicted correctly. Most predictions fall into class 0 (making up 320,700 cases) whereas many instances of class -2 and -1 are misclassified as 0. This suggests class imbalance.\n",
    "\n",
    "Because our baseline model has a biased towards the majority class of 0, our iterated model will address handling class imbalance."
   ]
  },
  {
   "cell_type": "markdown",
   "metadata": {},
   "source": [
    "### Balanced Model"
   ]
  },
  {
   "cell_type": "markdown",
   "metadata": {},
   "source": [
    "Due to the large majority class bias we saw in our baseline model, we will use sklearn's classifier to alow class_weight = 'balanced', which automatically assigns higher weight to minority class."
   ]
  },
  {
   "cell_type": "code",
   "execution_count": 21,
   "metadata": {},
   "outputs": [
    {
     "name": "stdout",
     "output_type": "stream",
     "text": [
      "Balanced Model Accuracy: 0.4940\n"
     ]
    }
   ],
   "source": [
    "# Initializing Decision Tree with balanced class weights\n",
    "balanced_model = DecisionTreeClassifier(random_state=42, class_weight=\"balanced\")\n",
    "\n",
    "# Train the model\n",
    "balanced_model.fit(X_train, y_train)\n",
    "\n",
    "# Predict on test set\n",
    "y_pred_balanced = balanced_model.predict(X_test)\n",
    "\n",
    "# Evaluate accuracy\n",
    "from sklearn.metrics import accuracy_score\n",
    "\n",
    "accuracy = accuracy_score(y_test, y_pred_balanced)\n",
    "print(f\"Balanced Model Accuracy: {accuracy:.4f}\")"
   ]
  },
  {
   "cell_type": "markdown",
   "metadata": {},
   "source": [
    "### Balanced Model - Evaluation"
   ]
  },
  {
   "cell_type": "code",
   "execution_count": 22,
   "metadata": {},
   "outputs": [
    {
     "name": "stdout",
     "output_type": "stream",
     "text": [
      "Balanced Model - Classification Report:\n",
      "\n",
      "              precision    recall  f1-score   support\n",
      "\n",
      "          -2       0.14      0.28      0.18     35939\n",
      "          -1       0.18      0.61      0.28     44537\n",
      "           0       0.91      0.50      0.65    320700\n",
      "\n",
      "    accuracy                           0.49    401176\n",
      "   macro avg       0.41      0.46      0.37    401176\n",
      "weighted avg       0.76      0.49      0.56    401176\n",
      "\n"
     ]
    },
    {
     "data": {
      "image/png": "[encoded data removed]",
      "text/plain": [
       "<Figure size 720x432 with 2 Axes>"
      ]
     },
     "metadata": {
      "needs_background": "light"
     },
     "output_type": "display_data"
    }
   ],
   "source": [
    "# Print classification report\n",
    "print(\"Balanced Model - Classification Report:\\n\")\n",
    "print(classification_report(y_test, y_pred_balanced))\n",
    "\n",
    "# Plot confusion matrix\n",
    "plt.figure(figsize=(10, 6))\n",
    "sns.heatmap(confusion_matrix(y_test, y_pred_balanced), annot=True, fmt=\"d\", cmap=\"Blues\")\n",
    "plt.xlabel(\"Predicted\")\n",
    "plt.ylabel(\"Actual\")\n",
    "plt.title(\"Confusion Matrix - Balanced Model\")\n",
    "plt.show()\n"
   ]
  },
  {
   "cell_type": "markdown",
   "metadata": {},
   "source": [
    "Our balanced model has some improvements compared to our baseline model. Our balanced model now recognizes minority classes -2 and -1 much better, the recall for class -1 increased from 2% to 61%, and we overall now have more balanced predictions rather than predicting class 0 for everything.\n",
    "\n",
    "We do also see more problems with our balanced model. Our accuracy dropped significantly from 78% to 49%, likely because our model now misclassifies a lot of the 0 cases. Our 0 class also dropped in recall from 97% to 50%, meaning it no longer prioritizes the dominant class. Lastly, our precision is low for minority classes (14%-18%) which could mean that this is incorrectly predicting -2 and -1."
   ]
  },
  {
   "cell_type": "markdown",
   "metadata": {},
   "source": [
    "### Conclusion"
   ]
  },
  {
   "cell_type": "markdown",
   "metadata": {},
   "source": [
    "After testing two models, a baseline Decision Tree and a balanced Decision Tree using class weights, we can see a distinct trade-off between overall accuracy and fairness in class representation.\n",
    "\n",
    "Our baseline model had high accuracy but was biased. This baseline model performs well overall but heavily factors the majority class of 0. This means that our model is not useful for identifying less common accident causes because it misclassifies them most of the time.\n",
    "\n",
    "Our balanced iterated model is fairer but has worse accuracy. Our model improved the recall score for both the minority classes (-2 and -1) but the accuracy dropped from 78% to 49%.\n",
    "\n",
    "Our averaged F1-score increased from 0.33 to 0.37. This suggests that our balanced model is slightly better at handling all classes.\n",
    "\n",
    "Because our audience is the Vehicle Safety Board, they might care about idetnifying the primary cause of accidents, especially minority causes, to develop better safety policies and prevention strategies. The Vehicle Safety Board might also care more about balanced performance across all causes.\n",
    "\n",
    "For a Vehicle Safety Board, the best approach is to prioritize recall (how well our model identifies actual cases of a class) and fairness over pure accuracy. The balanced Decision Tree is a better choice for this business problem than the baseline model."
   ]
  },
  {
   "cell_type": "markdown",
   "metadata": {},
   "source": [
    "### Next Steps"
   ]
  },
  {
   "cell_type": "markdown",
   "metadata": {},
   "source": [
    "There are a few next steps we could go with our model.\n",
    "\n",
    "We can improve upon our model's performance. A next iterated model we could explore is the Random Forest model, which handles imbalanced data better than a single Decision Tree and reduces overfitting.\n",
    "\n",
    "We could consider external factors to add into our data. Weather data, traffic density, and road conditions would all be great factors to add to our data to help improve model accuracy by adding environmental context.\n",
    "\n",
    "We could create policy recommendations based on our model results. For example, if impaired driving is a leading cause of crashes we could enforce stricter DUI regulations, if road conditions played a major role then we could advocate for better road lighting, if cell phone usage was a major factor we could increase penalties for distracted driving."
   ]
  }
 ],
 "metadata": {
  "kernelspec": {
   "display_name": "Python (learn-env)",
   "language": "python",
   "name": "learn-env"
  },
  "language_info": {
   "codemirror_mode": {
    "name": "ipython",
    "version": 3
   },
   "file_extension": ".py",
   "mimetype": "text/x-python",
   "name": "python",
   "nbconvert_exporter": "python",
   "pygments_lexer": "ipython3",
   "version": "3.8.5"
  }
 },
 "nbformat": 4,
 "nbformat_minor": 4
}
